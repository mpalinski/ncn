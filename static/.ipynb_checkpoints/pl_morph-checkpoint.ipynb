{
 "cells": [
  {
   "cell_type": "code",
   "execution_count": 8,
   "metadata": {},
   "outputs": [],
   "source": [
    "d={\"id\": 'CY', \"val\": 81},{\"id\": 'EE', \"val\": 39},{\"id\": 'LT', \"val\": 53},{\"id\": 'BG', \"val\": 61},{\"id\": 'RO', \"val\": 59},{\"id\": 'LU', \"val\": 64},{\"id\": 'SI', \"val\": 48},{\"id\": 'HR', \"val\": 59}, {\"id\": 'AT', \"val\": 51}, {\"id\": 'BE', \"val\": 67}, {\"id\": 'CZ', \"val\": 56}, {\"id\": 'DE', \"val\": 59}, {\"id\": 'DK', \"val\": 50}, {\"id\": 'EL', \"val\": 63}, {\"id\": 'ES', \"val\": 65}, {\"id\": 'FI', \"val\": 62}, {\"id\": 'FR', \"val\": 72}, {\"id\": 'HU', \"val\": 55}, {\"id\": 'IE', \"val\": 75}, {\"id\": 'IT', \"val\": 66}, {\"id\": 'LV', \"val\": 50}, {\"id\": 'NL', \"val\": 48}, {\"id\": 'PL', \"val\": 54}, {\"id\": 'PT', \"val\": 77}, {\"id\": 'SE', \"val\": 33}, {\"id\": 'SK', \"val\": 51}, {\"id\": 'UK', \"val\": 73}"
   ]
  },
  {
   "cell_type": "code",
   "execution_count": 15,
   "metadata": {},
   "outputs": [
    {
     "name": "stdout",
     "output_type": "stream",
     "text": [
      "CY\n",
      "EE\n",
      "LT\n",
      "BG\n",
      "RO\n",
      "LU\n",
      "SI\n",
      "HR\n",
      "AT\n",
      "BE\n",
      "CZ\n",
      "DE\n",
      "DK\n",
      "EL\n",
      "ES\n",
      "FI\n",
      "FR\n",
      "HU\n",
      "IE\n",
      "IT\n",
      "LV\n",
      "NL\n",
      "PL\n",
      "PT\n",
      "SE\n",
      "SK\n",
      "UK\n"
     ]
    }
   ],
   "source": [
    "for i in d:\n",
    "    print(i['id'])"
   ]
  },
  {
   "cell_type": "code",
   "execution_count": null,
   "metadata": {},
   "outputs": [],
   "source": []
  }
 ],
 "metadata": {
  "kernelspec": {
   "display_name": "Python 3",
   "language": "python",
   "name": "python3"
  },
  "language_info": {
   "codemirror_mode": {
    "name": "ipython",
    "version": 3
   },
   "file_extension": ".py",
   "mimetype": "text/x-python",
   "name": "python",
   "nbconvert_exporter": "python",
   "pygments_lexer": "ipython3",
   "version": "3.7.1"
  }
 },
 "nbformat": 4,
 "nbformat_minor": 2
}
